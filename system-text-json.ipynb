{
 "cells": [
  {
   "cell_type": "markdown",
   "metadata": {},
   "source": [
    "# System.Text.Json\n",
    "\n",
    "System.Text.Json is a highly performant and feature-rich JSON library that is built into .NET Core 3.0 and later. It is the default JSON library for ASP.NET Core 3.0 and later.\n",
    "\n",
    "This notebook will explore the basic functionality and customization options of System.Text.Json.\n",
    "\n",
    "See the [System.Text.Json documentation](https://learn.microsoft.com/en-us/dotnet/standard/serialization/system-text-json/overview) for more information."
   ]
  },
  {
   "cell_type": "code",
   "execution_count": 2,
   "metadata": {
    "dotnet_interactive": {
     "language": "csharp"
    },
    "polyglot_notebook": {
     "kernelName": "csharp"
    },
    "vscode": {
     "languageId": "polyglot-notebook"
    }
   },
   "outputs": [],
   "source": [
    "using System.Text.Json;\n",
    "using System.Text.Json.Serialization;\n",
    "using System.Globalization;\n",
    "using System.Reflection;"
   ]
  },
  {
   "cell_type": "code",
   "execution_count": 3,
   "metadata": {
    "dotnet_interactive": {
     "language": "csharp"
    },
    "polyglot_notebook": {
     "kernelName": "csharp"
    },
    "vscode": {
     "languageId": "polyglot-notebook"
    }
   },
   "outputs": [],
   "source": [
    "var options = new JsonSerializerOptions\n",
    "{\n",
    "    WriteIndented = true,\n",
    "};"
   ]
  },
  {
   "cell_type": "markdown",
   "metadata": {},
   "source": [
    "## Basic Serialization\n",
    "\n",
    "Here's a simple example that shows how to serialize an object to JSON."
   ]
  },
  {
   "cell_type": "code",
   "execution_count": 4,
   "metadata": {
    "dotnet_interactive": {
     "language": "csharp"
    },
    "polyglot_notebook": {
     "kernelName": "csharp"
    },
    "vscode": {
     "languageId": "polyglot-notebook"
    }
   },
   "outputs": [
    {
     "name": "stdout",
     "output_type": "stream",
     "text": [
      "{\n",
      "  \"Date\": \"2019-08-01T00:00:00-07:00\",\n",
      "  \"TemperatureCelsius\": 25,\n",
      "  \"Summary\": \"Hot\",\n",
      "  \"Detail\": null,\n",
      "  \"chanceOfPrecipitation\": 0,\n",
      "  \"TemperatureFahrenheit\": 76,\n",
      "  \"WindSpeed\": 35\n",
      "}\n"
     ]
    }
   ],
   "source": [
    "public class WeatherForecast\n",
    "{\n",
    "    public DateTimeOffset Date { get; set; }\n",
    "    public int TemperatureCelsius { get; set; }\n",
    "    public string? Summary { get; set; }\n",
    "    public string? Detail { get; set; }\n",
    "    public float chanceOfPrecipitation { get; set; }\n",
    "\n",
    "    public int TemperatureFahrenheit => 32 + (int)(TemperatureCelsius / 0.5556);\n",
    "\n",
    "    internal int WindSpeed { get; set; } = 35;\n",
    "    private int Pressure { get; set; } = 120;\n",
    "}\n",
    "\n",
    "var weatherForecast = new WeatherForecast\n",
    "{\n",
    "    Date = DateTimeOffset.Parse(\"2019-08-01\"),\n",
    "    TemperatureCelsius = 25,\n",
    "    Summary = \"Hot\"\n",
    "};\n",
    "\n",
    "string jsonString = JsonSerializer.Serialize(weatherForecast, options);\n",
    "\n",
    "Console.WriteLine(jsonString);"
   ]
  },
  {
   "cell_type": "markdown",
   "metadata": {},
   "source": [
    "Here the serializer is using the default serialization options. In particular:\n",
    "- JSON property names use the same casing as the .NET property names.\n",
    "- All public properties are serialized, including read-only properties.\n",
    "- Internal properties are serialized when the serializer is used within the same assembly as the type being serialized.\n",
    "- Private properties are not serialized.\n",
    "- Reference properties with `null` values are serialized."
   ]
  },
  {
   "cell_type": "markdown",
   "metadata": {},
   "source": [
    "## Basic Deserialization\n",
    "\n",
    "Here's a simple example that shows how to deserialize JSON to an object."
   ]
  },
  {
   "cell_type": "code",
   "execution_count": 5,
   "metadata": {
    "dotnet_interactive": {
     "language": "csharp"
    },
    "polyglot_notebook": {
     "kernelName": "csharp"
    },
    "vscode": {
     "languageId": "polyglot-notebook"
    }
   },
   "outputs": [
    {
     "name": "stdout",
     "output_type": "stream",
     "text": [
      "Date: 8/1/2019 12:00:00 AM -07:00\n",
      "TemperatureCelsius: 0\n",
      "Summary: Hot\n"
     ]
    }
   ],
   "source": [
    "public class WeatherForecast\n",
    "{\n",
    "    public DateTimeOffset Date { get; set; }\n",
    "    public int TemperatureCelsius { get; set; }\n",
    "    public string? Summary { get; set; }\n",
    "}\n",
    "\n",
    "var jsonString = @\"{\"\"Date\"\":\"\"2019-08-01T00:00:00-07:00\"\",\"\"temperatureCelsius\"\":25,\"\"Summary\"\":\"\"Hot\"\",\"\"Details\"\":\"\"Pool weather\"\"}\";\n",
    "\n",
    "var weatherForecast = JsonSerializer.Deserialize<WeatherForecast>(jsonString);\n",
    "\n",
    "foreach (PropertyInfo pi in typeof(WeatherForecast).GetProperties()) {\n",
    "    Console.WriteLine($\"{pi.Name}: {pi.GetValue(weatherForecast)}\");\n",
    "}"
   ]
  },
  {
   "cell_type": "markdown",
   "metadata": {},
   "source": [
    "Again, the deserializer is using the default serialization options. In particular:\n",
    "- JSON property names are treated case-sensitively -- TemperatureCelcius gets the default value of 0 and not 25.\n",
    "- Unknown JSON properties are ignored -- \"Details\" is not deserialized."
   ]
  },
  {
   "cell_type": "markdown",
   "metadata": {},
   "source": [
    "Another important point is that the deserializer will throw an execption if any of the JSON properties are not valid for the type being deserialized. For example, if the value of the JSON property \"TemperatureCelcius\" is a string instead of a number, the deserializer throws an exception."
   ]
  },
  {
   "cell_type": "code",
   "execution_count": 6,
   "metadata": {
    "dotnet_interactive": {
     "language": "csharp"
    },
    "polyglot_notebook": {
     "kernelName": "csharp"
    },
    "vscode": {
     "languageId": "polyglot-notebook"
    }
   },
   "outputs": [
    {
     "name": "stdout",
     "output_type": "stream",
     "text": [
      "Message: The JSON value could not be converted to System.Int32. Path: $.TemperatureCelsius | LineNumber: 0 | BytePositionInLine: 61.\n"
     ]
    }
   ],
   "source": [
    "var jsonString = @\"{\"\"Date\"\":\"\"2019-08-01T00:00:00-07:00\"\",\"\"TemperatureCelsius\"\":\"\"25\"\",\"\"Summary\"\":\"\"Hot\"\"}\";\n",
    "\n",
    "try {\n",
    "    var weatherForecast = JsonSerializer.Deserialize<WeatherForecast>(jsonString);\n",
    "}\n",
    "catch (JsonException e) {\n",
    "    Console.WriteLine($\"Message: {e.Message}\");\n",
    "}"
   ]
  },
  {
   "cell_type": "markdown",
   "metadata": {},
   "source": [
    "## Basic Types\n",
    "\n",
    "This section will show how System.Text.Json serializes and deserializes different types of objects."
   ]
  },
  {
   "cell_type": "code",
   "execution_count": 9,
   "metadata": {
    "dotnet_interactive": {
     "language": "csharp"
    },
    "polyglot_notebook": {
     "kernelName": "csharp"
    },
    "vscode": {
     "languageId": "polyglot-notebook"
    }
   },
   "outputs": [],
   "source": [
    "public class BasicTypes\n",
    "{\n",
    "    public int Int { get; set; }\n",
    "    public long Long { get; set; }\n",
    "    public short Short { get; set; }\n",
    "    public float Float { get; set; }\n",
    "    public double Double { get; set; }\n",
    "    public bool Bool { get; set; }\n",
    "    public string String { get; set; }\n",
    "    public char Char { get; set; }\n",
    "    public byte Byte { get; set; }\n",
    "    public decimal Decimal { get; set; }\n",
    "    public DateTimeOffset DateTimeOffset { get; set; }\n",
    "    public DateOnly DateOnly { get; set; }\n",
    "    public TimeOnly TimeOnly { get; set; }\n",
    "    public Uri Uri { get; set; }\n",
    "    public Guid Uuid { get; set; }\n",
    "\n",
    "    // Arrays\n",
    "    public int[] IntArray { get; set; }\n",
    "    public byte[] ByteArray { get; set; }\n",
    "}"
   ]
  },
  {
   "cell_type": "markdown",
   "metadata": {},
   "source": [
    "### Serialization"
   ]
  },
  {
   "cell_type": "code",
   "execution_count": 10,
   "metadata": {
    "dotnet_interactive": {
     "language": "csharp"
    },
    "polyglot_notebook": {
     "kernelName": "csharp"
    },
    "vscode": {
     "languageId": "polyglot-notebook"
    }
   },
   "outputs": [
    {
     "name": "stdout",
     "output_type": "stream",
     "text": [
      "{\n",
      "  \"Int\": 42,\n",
      "  \"Long\": 42,\n",
      "  \"Short\": 42,\n",
      "  \"Float\": 42.42,\n",
      "  \"Double\": 42.42,\n",
      "  \"Bool\": true,\n",
      "  \"String\": \"Hello, World!\",\n",
      "  \"Char\": \"A\",\n",
      "  \"Byte\": 42,\n",
      "  \"Decimal\": 42.42,\n",
      "  \"DateTimeOffset\": \"2019-08-01T00:00:00-07:00\",\n",
      "  \"DateOnly\": \"2019-08-01\",\n",
      "  \"TimeOnly\": \"08:00:00\",\n",
      "  \"Uri\": \"https://example.com\",\n",
      "  \"Uuid\": \"936da01f-9abd-4d9d-80c7-02af85c822a8\",\n",
      "  \"IntArray\": [\n",
      "    1,\n",
      "    2,\n",
      "    3,\n",
      "    4,\n",
      "    5\n",
      "  ],\n",
      "  \"ByteArray\": \"AQIDBAU=\"\n",
      "}\n"
     ]
    }
   ],
   "source": [
    "\n",
    "var basicTypes = new BasicTypes\n",
    "{\n",
    "    Int = 42,\n",
    "    Long = 42,\n",
    "    Short = 42,\n",
    "    Float = 42.42f,\n",
    "    Double = 42.42,\n",
    "    Bool = true,\n",
    "    String = \"Hello, World!\",\n",
    "    Char = 'A',\n",
    "    Byte = 42,\n",
    "    Decimal = 42.42m,\n",
    "    DateTimeOffset = DateTimeOffset.Parse(\"2019-08-01\"),\n",
    "    DateOnly = DateOnly.Parse(\"2019-08-01\"),\n",
    "    TimeOnly = TimeOnly.Parse(\"08:00:00\"),\n",
    "    Uri = new Uri(\"https://example.com\"),\n",
    "    Uuid = Guid.Parse(\"936DA01F9ABD4d9d80C702AF85C822A8\"),\n",
    "    IntArray = new int[] { 1, 2, 3, 4, 5 },\n",
    "    ByteArray = new byte[] { 1, 2, 3, 4, 5 }\n",
    "};\n",
    "\n",
    "string jsonString = JsonSerializer.Serialize(basicTypes, options);\n",
    "\n",
    "Console.WriteLine(jsonString);"
   ]
  },
  {
   "cell_type": "markdown",
   "metadata": {},
   "source": [
    "Serialization of basic types is mostly straightforward. The serializer will automatically convert the .NET types to their JSON equivalents.\n",
    "\n",
    "But one slightly unusual behavior is that an array of `byte` is serialized as a base64-encoded string, whereas a single `byte` is serialized as a number."
   ]
  },
  {
   "cell_type": "markdown",
   "metadata": {},
   "source": [
    "### Deserialization"
   ]
  },
  {
   "cell_type": "code",
   "execution_count": 12,
   "metadata": {
    "dotnet_interactive": {
     "language": "csharp"
    },
    "polyglot_notebook": {
     "kernelName": "csharp"
    },
    "vscode": {
     "languageId": "polyglot-notebook"
    }
   },
   "outputs": [
    {
     "name": "stdout",
     "output_type": "stream",
     "text": [
      "Int: 42\n",
      "Long: 42\n",
      "Short: 42\n",
      "Float: 42.42\n",
      "Double: 42.42\n",
      "Bool: True\n",
      "String: Hello, World!\n",
      "Char: A\n",
      "Byte: 42\n",
      "Decimal: 42.42\n",
      "DateTimeOffset: 8/1/2019 12:00:00 AM -07:00\n",
      "DateOnly: 8/1/2019\n",
      "TimeOnly: 8:00 AM\n",
      "Uri: https://example.com/\n",
      "Uuid: 936da01f-9abd-4d9d-80c7-02af85c822a8\n",
      "IntArray: [1, 2, 3, 4, 5]\n",
      "ByteArray: [1, 2, 3, 4, 5]\n"
     ]
    }
   ],
   "source": [
    "var jsonString = @\"{\n",
    "    \"\"Int\"\": 42,\n",
    "    \"\"Long\"\": 42,\n",
    "    \"\"Short\"\": 42,\n",
    "    \"\"Float\"\": 42.42,\n",
    "    \"\"Double\"\": 42.42,\n",
    "    \"\"Bool\"\": true,\n",
    "    \"\"String\"\": \"\"Hello, World!\"\",\n",
    "    \"\"Char\"\": \"\"A\"\",\n",
    "    \"\"Byte\"\": 42,\n",
    "    \"\"Decimal\"\": 42.42,\n",
    "    \"\"DateTimeOffset\"\": \"\"2019-08-01T00:00:00\"\",\n",
    "    \"\"DateOnly\"\": \"\"2019-08-01\"\",\n",
    "    \"\"TimeOnly\"\": \"\"08:00:00\"\",\n",
    "    \"\"Uri\"\": \"\"https://example.com\"\",\n",
    "    \"\"Uuid\"\": \"\"936da01f-9abd-4d9d-80c7-02af85c822a8\"\",\n",
    "    \"\"IntArray\"\": [1, 2, 3, 4, 5],\n",
    "    \"\"ByteArray\"\": \"\"AQIDBAU=\"\"\n",
    "}\";\n",
    "\n",
    "var basicTypes = JsonSerializer.Deserialize<BasicTypes>(jsonString);\n",
    "\n",
    "foreach (PropertyInfo pi in typeof(BasicTypes).GetProperties()) {\n",
    "    var value = pi.GetValue(basicTypes);\n",
    "    if (pi.PropertyType.IsArray)\n",
    "    {\n",
    "        value = \"[\" + string.Join(\", \", ((System.Collections.IEnumerable)value).Cast<object>()) + \"]\";\n",
    "    }\n",
    "    Console.WriteLine($\"{pi.Name}: {value}\");\n",
    "}"
   ]
  },
  {
   "cell_type": "markdown",
   "metadata": {},
   "source": [
    "Deserialization of basic types similarly works as expected."
   ]
  },
  {
   "cell_type": "markdown",
   "metadata": {},
   "source": [
    "## Complex Types\n",
    "\n",
    "There are some nuances to consider when serializing and deserializing complex types.\n"
   ]
  },
  {
   "cell_type": "code",
   "execution_count": 13,
   "metadata": {
    "dotnet_interactive": {
     "language": "csharp"
    },
    "polyglot_notebook": {
     "kernelName": "csharp"
    },
    "vscode": {
     "languageId": "polyglot-notebook"
    }
   },
   "outputs": [
    {
     "name": "stdout",
     "output_type": "stream",
     "text": [
      "{\n",
      "  \"key1\": \"value1\",\n",
      "  \"key2\": \"value2\"\n",
      "}\n"
     ]
    }
   ],
   "source": [
    "public class ExtendsDict : Dictionary<string, string>\n",
    "{\n",
    "    public string Title { get; set; }\n",
    "    public int Priority { get; set; }\n",
    "}\n",
    "\n",
    "var extendsDict = new ExtendsDict\n",
    "{\n",
    "    Title = \"Title\",\n",
    "    Priority = 1\n",
    "};\n",
    "extendsDict.Add(\"key1\", \"value1\");\n",
    "extendsDict.Add(\"key2\", \"value2\");\n",
    "\n",
    "string jsonString = JsonSerializer.Serialize(extendsDict, options);\n",
    "\n",
    "Console.WriteLine(jsonString);"
   ]
  },
  {
   "cell_type": "markdown",
   "metadata": {},
   "source": [
    "This example illustrates that for dictionary types, the serializer only serializes the values from the collection, and any additional properties are lost. The same behavior applies to other collection types."
   ]
  },
  {
   "cell_type": "markdown",
   "metadata": {},
   "source": [
    "### JsonExtensionData\n",
    "\n",
    "The [`JsonExtensionData`] attribute can be used to capture additional properties that are not explicitly defined in the class.\n",
    "\n",
    "[`JsonExtensionData`]: https://learn.microsoft.com/dotnet/api/system.text.json.serialization.jsonextensiondataattribute"
   ]
  },
  {
   "cell_type": "code",
   "execution_count": 4,
   "metadata": {
    "dotnet_interactive": {
     "language": "csharp"
    },
    "polyglot_notebook": {
     "kernelName": "csharp"
    },
    "vscode": {
     "languageId": "polyglot-notebook"
    }
   },
   "outputs": [
    {
     "name": "stdout",
     "output_type": "stream",
     "text": [
      "{\n",
      "  \"Name\": \"Name\",\n",
      "  \"IsEnabled\": true,\n",
      "  \"key1\": \"value1\",\n",
      "  \"key2\": \"value2\"\n",
      "}\n"
     ]
    }
   ],
   "source": [
    "class TypeWithExtensionData\n",
    "{\n",
    "    public required string Name { get; set; }\n",
    "    public required bool IsEnabled { get; set; }\n",
    "\n",
    "    [JsonExtensionData]\n",
    "    public Dictionary<string, object>? AdditionalData { get; set; }\n",
    "\n",
    "}\n",
    "\n",
    "var typeWithExtensionData = new TypeWithExtensionData\n",
    "{\n",
    "    Name = \"Name\",\n",
    "    IsEnabled = true,\n",
    "    AdditionalData = new Dictionary<string, object>\n",
    "    {\n",
    "        { \"key1\", \"value1\" },\n",
    "        { \"key2\", \"value2\" }\n",
    "    }\n",
    "};\n",
    "\n",
    "string jsonString = JsonSerializer.Serialize(typeWithExtensionData, options);\n",
    "\n",
    "Console.WriteLine(jsonString);"
   ]
  },
  {
   "cell_type": "markdown",
   "metadata": {},
   "source": [
    "### The `object` Type\n",
    "\n",
    "The `object` type is a special case because it can represent any type. When serializing an `object`, the serializer will use the actual type of the object to determine how to serialize it."
   ]
  },
  {
   "cell_type": "code",
   "execution_count": 5,
   "metadata": {
    "dotnet_interactive": {
     "language": "csharp"
    },
    "polyglot_notebook": {
     "kernelName": "csharp"
    },
    "vscode": {
     "languageId": "polyglot-notebook"
    }
   },
   "outputs": [
    {
     "name": "stdout",
     "output_type": "stream",
     "text": [
      "{\n",
      "  \"Object\": 42\n",
      "}\n",
      "{\n",
      "  \"Object\": \"Hello, World!\"\n",
      "}\n"
     ]
    }
   ],
   "source": [
    "public class ClassWithObject\n",
    "{\n",
    "    public object Object { get; set; }\n",
    "}\n",
    "\n",
    "var classWithObject = new ClassWithObject\n",
    "{\n",
    "    Object = 42\n",
    "};\n",
    "\n",
    "string jsonString = JsonSerializer.Serialize(classWithObject, options);\n",
    "\n",
    "Console.WriteLine(jsonString);\n",
    "\n",
    "classWithObject.Object = \"Hello, World!\";\n",
    "\n",
    "jsonString = JsonSerializer.Serialize(classWithObject, options);\n",
    "\n",
    "Console.WriteLine(jsonString);\n"
   ]
  },
  {
   "cell_type": "markdown",
   "metadata": {},
   "source": [
    "### `dynamic` Type\n",
    "\n",
    "The `dynamic` type is another special case. When serializing a `dynamic` type, the serializer will use the actual type of the object to determine how to serialize it."
   ]
  },
  {
   "cell_type": "code",
   "execution_count": 6,
   "metadata": {
    "dotnet_interactive": {
     "language": "csharp"
    },
    "polyglot_notebook": {
     "kernelName": "csharp"
    },
    "vscode": {
     "languageId": "polyglot-notebook"
    }
   },
   "outputs": [
    {
     "name": "stdout",
     "output_type": "stream",
     "text": [
      "{\n",
      "  \"Dynamic\": 42\n",
      "}\n",
      "{\n",
      "  \"Dynamic\": \"Hello, World!\"\n",
      "}\n"
     ]
    }
   ],
   "source": [
    "public class ClassWithDynamic\n",
    "{\n",
    "    public dynamic Dynamic { get; set; }\n",
    "}\n",
    "\n",
    "var classWithDynamic = new ClassWithDynamic\n",
    "{\n",
    "    Dynamic = 42\n",
    "};\n",
    "\n",
    "string jsonString = JsonSerializer.Serialize(classWithDynamic, options);\n",
    "\n",
    "Console.WriteLine(jsonString);\n",
    "\n",
    "classWithDynamic.Dynamic = \"Hello, World!\";\n",
    "\n",
    "jsonString = JsonSerializer.Serialize(classWithDynamic, options);\n",
    "\n",
    "Console.WriteLine(jsonString);"
   ]
  },
  {
   "cell_type": "markdown",
   "metadata": {},
   "source": [
    "## Customizing System.Text.Json\n",
    "\n",
    "The examples above show serialization and deserialization using the default serialization options. However, System.Text.Json lets you customize serialization and deserialization to fit your API conventions. The `JsonSerializerOptions` class has many properties that you can set to customize serialization and deserialization behavior."
   ]
  },
  {
   "cell_type": "markdown",
   "metadata": {},
   "source": [
    "### Customizing serialization\n",
    "\n",
    "Some common serialization customizations are:\n",
    "- Convert property names to camel case when serializing.\n",
    "- Don't serialize properties with null values\n",
    "\n",
    "The following example illustrates these customizations."
   ]
  },
  {
   "cell_type": "code",
   "execution_count": 49,
   "metadata": {
    "dotnet_interactive": {
     "language": "csharp"
    },
    "polyglot_notebook": {
     "kernelName": "csharp"
    },
    "vscode": {
     "languageId": "polyglot-notebook"
    }
   },
   "outputs": [
    {
     "name": "stdout",
     "output_type": "stream",
     "text": [
      "{\"date\":\"2019-08-01T00:00:00\",\"temperatureCelsius\":25,\"summary\":\"Hot\"}\n"
     ]
    }
   ],
   "source": [
    "public class WeatherForecast\n",
    "{\n",
    "    public DateTimeOffset Date { get; set; }\n",
    "    public int TemperatureCelsius { get; set; }\n",
    "    public string? Summary { get; set; }\n",
    "    public string? Detail { get; set; }\n",
    "}\n",
    "\n",
    "var weatherForecast = new WeatherForecast\n",
    "{\n",
    "    Date = DateTimeOffset.Parse(\"2019-08-01\"),\n",
    "    TemperatureCelsius = 25,\n",
    "    Summary = \"Hot\"\n",
    "};\n",
    "\n",
    "var options = new JsonSerializerOptions\n",
    "{\n",
    "    // Convert property names to camel case when serializing\n",
    "    PropertyNamingPolicy = JsonNamingPolicy.CamelCase,\n",
    "    // Don't serialize properties with null values\n",
    "    DefaultIgnoreCondition = JsonIgnoreCondition.WhenWritingNull\n",
    "};\n",
    "string jsonString = JsonSerializer.Serialize(weatherForecast, options);\n",
    "\n",
    "Console.WriteLine(jsonString);"
   ]
  },
  {
   "cell_type": "markdown",
   "metadata": {},
   "source": [
    "Note that \"Detail\" is not serialized because it has a null value, and all property names are camel-cased."
   ]
  },
  {
   "cell_type": "markdown",
   "metadata": {},
   "source": [
    "### Customizing deserialization\n",
    "\n",
    "Some common deserialization customizations are:\n",
    "- allow numbers to be read from JSON strings.\n",
    "- property names are compared case-insensitively.\n",
    "\n",
    "The following example illustrates these customizations."
   ]
  },
  {
   "cell_type": "code",
   "execution_count": 50,
   "metadata": {
    "dotnet_interactive": {
     "language": "csharp"
    },
    "polyglot_notebook": {
     "kernelName": "csharp"
    },
    "vscode": {
     "languageId": "polyglot-notebook"
    }
   },
   "outputs": [
    {
     "name": "stdout",
     "output_type": "stream",
     "text": [
      "Date: 8/1/2019 2:00:00 AM\n",
      "TemperatureCelsius: 25\n",
      "Summary: Hot\n",
      "Detail: \n"
     ]
    }
   ],
   "source": [
    "var jsonString = @\"{\"\"date\"\":\"\"2019-08-01T00:00:00-07:00\"\",\"\"temperaturecelsius\"\":\"\"25\"\",\"\"summary\"\":\"\"Hot\"\"}\";\n",
    "var options = new JsonSerializerOptions\n",
    "{\n",
    "    // allow numbers to be read from JSON strings\n",
    "    NumberHandling = JsonNumberHandling.AllowReadingFromString,\n",
    "    // property names are compared case-insensitively\n",
    "    PropertyNameCaseInsensitive = true\n",
    "};\n",
    "\n",
    "var weatherForecast = JsonSerializer.Deserialize<WeatherForecast>(jsonString, options);\n",
    "\n",
    "foreach (PropertyInfo pi in typeof(WeatherForecast).GetProperties()) {\n",
    "    Console.WriteLine($\"{pi.Name}: {pi.GetValue(weatherForecast)}\");\n",
    "}"
   ]
  },
  {
   "cell_type": "markdown",
   "metadata": {},
   "source": [
    "Here the value \"25\" is deserialized as the number 25, and all properties are recognized even though they are fully lower case."
   ]
  },
  {
   "cell_type": "markdown",
   "metadata": {},
   "source": [
    "### Enums as strings\n",
    "\n",
    "By default, enum values are serialized to the underlying integer value and not the enum name. But System.Text.Json lets you customize this behavior to [serialize the enum value as a string][enums-as-strings].\n",
    "\n",
    "[enums-as-strings]: https://learn.microsoft.com/en-us/dotnet/standard/serialization/system-text-json/customize-properties?pivots=dotnet-8-0#enums-as-strings\n",
    "\n",
    "There are a few ways to do this, but I think the best way is adding the `JsonStringEnumConverter` attribute to the enum type.\n"
   ]
  },
  {
   "cell_type": "code",
   "execution_count": 6,
   "metadata": {
    "dotnet_interactive": {
     "language": "csharp"
    },
    "polyglot_notebook": {
     "kernelName": "csharp"
    },
    "vscode": {
     "languageId": "polyglot-notebook"
    }
   },
   "outputs": [
    {
     "name": "stdout",
     "output_type": "stream",
     "text": [
      "{\"Date\":\"2019-08-01T00:00:00-05:00\",\"TemperatureCelsius\":25,\"Summary\":\"Hot\"}\n"
     ]
    }
   ],
   "source": [
    "public class WeatherForecastWithEnum\n",
    "{\n",
    "    public DateTimeOffset Date { get; set; }\n",
    "    public int TemperatureCelsius { get; set; }\n",
    "    public Summary? Summary { get; set; }\n",
    "}\n",
    "\n",
    "[JsonConverter(typeof(JsonStringEnumConverter<Summary>))]\n",
    "public enum Summary\n",
    "{\n",
    "    Cold, Cool, Warm, Hot\n",
    "}\n",
    "\n",
    "var weatherForecast = new WeatherForecastWithEnum\n",
    "{\n",
    "    Date = DateTimeOffset.Parse(\"2019-08-01\"),\n",
    "    TemperatureCelsius = 25,\n",
    "    Summary = Summary.Hot\n",
    "};\n",
    "\n",
    "string jsonString = JsonSerializer.Serialize(weatherForecast);\n",
    "\n",
    "Console.WriteLine(jsonString);"
   ]
  },
  {
   "cell_type": "markdown",
   "metadata": {},
   "source": [
    "What's great about this approach is that applies to both serialization and deserialization."
   ]
  },
  {
   "cell_type": "code",
   "execution_count": 45,
   "metadata": {
    "dotnet_interactive": {
     "language": "csharp"
    },
    "polyglot_notebook": {
     "kernelName": "csharp"
    },
    "vscode": {
     "languageId": "polyglot-notebook"
    }
   },
   "outputs": [
    {
     "name": "stdout",
     "output_type": "stream",
     "text": [
      "Date: 8/1/2019 12:00:00 AM -07:00\n",
      "TemperatureCelsius: 25\n",
      "Summary: Hot\n"
     ]
    }
   ],
   "source": [
    "var jsonString = @\"{\"\"Date\"\":\"\"2019-08-01T00:00:00-07:00\"\",\"\"TemperatureCelsius\"\":25,\"\"Summary\"\":\"\"Hot\"\"}\";\n",
    "\n",
    "var weatherForecast = JsonSerializer.Deserialize<WeatherForecastWithEnum>(jsonString);\n",
    "\n",
    "foreach (PropertyInfo pi in typeof(WeatherForecastWithEnum).GetProperties()) {\n",
    "    Console.WriteLine($\"{pi.Name}: {pi.GetValue(weatherForecast)}\");\n",
    "}"
   ]
  },
  {
   "cell_type": "markdown",
   "metadata": {},
   "source": [
    "However, _by default_ enum string values are case-insensitive. "
   ]
  },
  {
   "cell_type": "code",
   "execution_count": 7,
   "metadata": {
    "dotnet_interactive": {
     "language": "csharp"
    },
    "polyglot_notebook": {
     "kernelName": "csharp"
    },
    "vscode": {
     "languageId": "polyglot-notebook"
    }
   },
   "outputs": [
    {
     "name": "stdout",
     "output_type": "stream",
     "text": [
      "Date: 8/1/2019 12:00:00 AM -07:00\n",
      "TemperatureCelsius: 25\n",
      "Summary: Hot\n"
     ]
    }
   ],
   "source": [
    "var jsonString = @\"{\"\"Date\"\":\"\"2019-08-01T00:00:00-07:00\"\",\"\"TemperatureCelsius\"\":25,\"\"Summary\"\":\"\"hOt\"\"}\";\n",
    "\n",
    "var weatherForecast = JsonSerializer.Deserialize<WeatherForecastWithEnum>(jsonString);\n",
    "\n",
    "foreach (PropertyInfo pi in typeof(WeatherForecastWithEnum).GetProperties()) {\n",
    "    Console.WriteLine($\"{pi.Name}: {pi.GetValue(weatherForecast)}\");\n",
    "}"
   ]
  },
  {
   "cell_type": "markdown",
   "metadata": {},
   "source": [
    "If you want the deserializer to treat enum string values as case-sensitive, you need to write a custom converter _factory_ -- one of the two converter patterns supported by System.Text.Json (see [this article][custom-converters] for more information).\n",
    "Here's an example of a custom converter factory that treats enum string values as case-sensitive and how to use it.\n",
    "\n",
    "[custom-converters]: https://learn.microsoft.com/en-us/dotnet/standard/serialization/system-text-json/converters-how-to"
   ]
  },
  {
   "cell_type": "code",
   "execution_count": 7,
   "metadata": {
    "dotnet_interactive": {
     "language": "csharp"
    },
    "polyglot_notebook": {
     "kernelName": "csharp"
    },
    "vscode": {
     "languageId": "polyglot-notebook"
    }
   },
   "outputs": [
    {
     "name": "stdout",
     "output_type": "stream",
     "text": [
      "Date: 8/1/2019 12:00:00 AM -07:00\n",
      "TemperatureCelsius: 25\n",
      "Summary: Hot\n",
      "JSON exception: Unable to convert \"hot\" to Enum \"Submission#7+Summary\".\n"
     ]
    }
   ],
   "source": [
    "using System.Reflection;\n",
    "using System.Text.Json;\n",
    "using System.Text.Json.Serialization;\n",
    "\n",
    "public class StrictEnumConverterFactory : JsonConverterFactory\n",
    "{\n",
    "    public override bool CanConvert(Type typeToConvert) => typeToConvert.IsEnum;\n",
    "\n",
    "    public override JsonConverter CreateConverter(\n",
    "        Type type,\n",
    "        JsonSerializerOptions options)\n",
    "    {\n",
    "        JsonConverter converter = (JsonConverter)Activator.CreateInstance(\n",
    "            typeof(StrictEnumConverterInner<>).MakeGenericType(new Type[] { type }),\n",
    "            BindingFlags.Instance | BindingFlags.Public,\n",
    "            binder: null,\n",
    "            args: new object[] { options },\n",
    "            culture: null)!;\n",
    "\n",
    "        return converter;\n",
    "    }\n",
    "\n",
    "    private class StrictEnumConverterInner<TEnum> : JsonConverter<TEnum> where TEnum : Enum\n",
    "    {\n",
    "        public StrictEnumConverterInner(JsonSerializerOptions options) { }\n",
    "\n",
    "        public override TEnum Read(\n",
    "            ref Utf8JsonReader reader,\n",
    "            Type typeToConvert,\n",
    "            JsonSerializerOptions options)\n",
    "        {\n",
    "            string enumString = reader.GetString();\n",
    "            if (Enum.TryParse(typeToConvert, enumString, ignoreCase: false, out object value)) {\n",
    "                return (TEnum) value;\n",
    "            }\n",
    "            throw new JsonException($\"Unable to convert \\\"{enumString}\\\" to Enum \\\"{typeToConvert}\\\".\");\n",
    "        }\n",
    "\n",
    "        public override void Write(\n",
    "            Utf8JsonWriter writer,\n",
    "            TEnum enumValue,\n",
    "            JsonSerializerOptions options) =>\n",
    "                writer.WriteStringValue(enumValue.ToString());\n",
    "    }\n",
    "}\n",
    "\n",
    "public enum Summary\n",
    "{\n",
    "    Cold, Cool, Warm, Hot\n",
    "}\n",
    "\n",
    "var jsonString = @\"{\"\"Date\"\":\"\"2019-08-01T00:00:00-07:00\"\",\"\"TemperatureCelsius\"\":25,\"\"Summary\"\":\"\"Hot\"\"}\";\n",
    "\n",
    "var weatherForecast = JsonSerializer.Deserialize<WeatherForecastWithEnum>(jsonString,\n",
    "    new JsonSerializerOptions {\n",
    "        Converters = { new StrictEnumConverterFactory() }   // register converter globally -- handles all enums\n",
    "    }\n",
    ");\n",
    "\n",
    "foreach (PropertyInfo pi in typeof(WeatherForecastWithEnum).GetProperties()) {\n",
    "    Console.WriteLine($\"{pi.Name}: {pi.GetValue(weatherForecast)}\");\n",
    "}\n",
    "\n",
    "var jsonString2 = @\"{\"\"Date\"\":\"\"2019-08-01T00:00:00-07:00\"\",\"\"TemperatureCelsius\"\":25,\"\"Summary\"\":\"\"hot\"\"}\";\n",
    "\n",
    "try {\n",
    "    var weatherForecast = JsonSerializer.Deserialize<WeatherForecastWithEnum>(jsonString2,\n",
    "        new JsonSerializerOptions {\n",
    "            Converters = { new StrictEnumConverterFactory() }   // register converter globally -- handles all enums\n",
    "        }\n",
    "    );\n",
    "}\n",
    "catch (JsonException e) {\n",
    "    Console.WriteLine($\"JSON exception: {e.Message}\");\n",
    "}\n"
   ]
  },
  {
   "cell_type": "markdown",
   "metadata": {},
   "source": [
    "### Customizing date-time serialization\n",
    "\n",
    "System.Text.Json serializes date-time values according to the ISO 8601 standard. But ISO 8601 has many different formats, and you may want to customize the format used by the serializer. You can do that by adding a converter to the `JsonSerializerOptions.Converters` collection.\n",
    "\n",
    "The following example shows how to specify a converter that translates the date-time value to UTC and then serializes with a format with 3 digits of fractional seconds and uses the \"Z\" time-zone specifier to indicate UTC."
   ]
  },
  {
   "cell_type": "code",
   "execution_count": 8,
   "metadata": {
    "dotnet_interactive": {
     "language": "csharp"
    },
    "polyglot_notebook": {
     "kernelName": "csharp"
    },
    "vscode": {
     "languageId": "polyglot-notebook"
    }
   },
   "outputs": [
    {
     "name": "stdout",
     "output_type": "stream",
     "text": [
      "{\"Date\":\"2019-08-01T05:00:00.000Z\",\"TemperatureCelsius\":25,\"Summary\":\"Hot\"}\n"
     ]
    }
   ],
   "source": [
    "public class DateTimeOffsetJsonConverter : JsonConverter<DateTimeOffset>\n",
    "{\n",
    "    public override DateTimeOffset Read(\n",
    "        ref Utf8JsonReader reader,\n",
    "        Type typeToConvert,\n",
    "        JsonSerializerOptions options) =>\n",
    "            DateTimeOffset.Parse(reader.GetString()!);\n",
    "\n",
    "    public override void Write(\n",
    "        Utf8JsonWriter writer,\n",
    "        DateTimeOffset dateTimeValue,\n",
    "        JsonSerializerOptions options) =>\n",
    "            writer.WriteStringValue(dateTimeValue.UtcDateTime.ToString(\n",
    "                \"yyyy-MM-ddTHH:mm:ss.fffK\", CultureInfo.InvariantCulture));\n",
    "}\n",
    "\n",
    "public class WeatherForecast\n",
    "{\n",
    "    public DateTimeOffset Date { get; set; }\n",
    "    public int TemperatureCelsius { get; set; }\n",
    "    public string? Summary { get; set; }\n",
    "}\n",
    "\n",
    "var weatherForecast = new WeatherForecast\n",
    "{\n",
    "    Date = DateTimeOffset.Parse(\"2019-08-01\"),\n",
    "    TemperatureCelsius = 25,\n",
    "    Summary = \"Hot\"\n",
    "};\n",
    "\n",
    "var options = new JsonSerializerOptions\n",
    "{\n",
    "    Converters = { new DateTimeOffsetJsonConverter() }\n",
    "};\n",
    "string jsonString = JsonSerializer.Serialize(weatherForecast, options);\n",
    "\n",
    "Console.WriteLine(jsonString);\n"
   ]
  },
  {
   "cell_type": "markdown",
   "metadata": {},
   "source": [
    "## System.Text.Json in ASP.NET Core applications\n",
    "\n",
    "When you use System.Text.Json indirectly in an ASP.NET Core app, it is configured with [Web defaults for JsonSerializerOptions](https://learn.microsoft.com/en-us/dotnet/standard/serialization/system-text-json/configure-options#web-defaults-for-jsonserializeroptions), which include:\n",
    "\n",
    "- property's name are converted to camel case \n",
    "- numbers may be read from JSON strings during deserialization.\n",
    "- property names are compared case-insensitively during deserialization.\n",
    "\n",
    "All of these customizations were illustrated in the examples above. But suppose you want to change them?\n"
   ]
  },
  {
   "cell_type": "markdown",
   "metadata": {},
   "source": [
    "### Configure System.Text.Json in ASP.NET Core\n",
    "\n",
    "To configure the System.Text.Json options in your app, use the `IServiceCollection.ConfigureHttpJsonOptions` extension method.\n",
    "\n",
    "The following example shows how to configure the System.Text.Json options used by ASP.NET Core.\n",
    "\n",
    "```csharp\n",
    "builder.Services.ConfigureHttpJsonOptions(options =>\n",
    "{\n",
    "    // Don't serialize null values\n",
    "    options.SerializerOptions.DefaultIgnoreCondition = JsonIgnoreCondition.WhenWritingNull;\n",
    "    // Only read numbers from JSON numbers and always write numbers as JSON numbers (without quotes).\n",
    "    options.SerializerOptions.NumberHandling = JsonNumberHandling.Strict;\n",
    "    // Treat property names as case-sensitive in deserialization\n",
    "    options.SerializerOptions.PropertyNameCaseInsensitive = false;\n",
    "});\n",
    "```"
   ]
  },
  {
   "cell_type": "markdown",
   "metadata": {},
   "source": [
    "## Resources\n",
    "\n",
    "- [System.Text.Json Overview](https://learn.microsoft.com/en-us/dotnet/standard/serialization/system-text-json/overview)\n",
    "- [System.Text.Json API Reference](https://learn.microsoft.com/en-us/dotnet/api/system.text.json?view=net-8.0)\n"
   ]
  }
 ],
 "metadata": {
  "kernelspec": {
   "display_name": ".NET (C#)",
   "language": "C#",
   "name": ".net-csharp"
  },
  "language_info": {
   "name": "python"
  },
  "polyglot_notebook": {
   "kernelInfo": {
    "defaultKernelName": "csharp",
    "items": [
     {
      "aliases": [],
      "name": "csharp"
     }
    ]
   }
  }
 },
 "nbformat": 4,
 "nbformat_minor": 2
}
